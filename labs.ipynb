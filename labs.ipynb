{
 "cells": [
  {
   "cell_type": "code",
   "execution_count": 1,
   "metadata": {},
   "outputs": [],
   "source": [
    "import os\n",
    "\n",
    "OPENAI_API_KEY = os.getenv(\"OPENAI_API_KEY\")"
   ]
  },
  {
   "cell_type": "code",
   "execution_count": null,
   "metadata": {},
   "outputs": [
    {
     "data": {
      "text/plain": [
       "AIMessage(content='Hi Bob! How can I assist you today?', additional_kwargs={'refusal': None}, response_metadata={'token_usage': {'completion_tokens': 10, 'prompt_tokens': 11, 'total_tokens': 21, 'completion_tokens_details': {'accepted_prediction_tokens': 0, 'audio_tokens': None, 'reasoning_tokens': 0, 'rejected_prediction_tokens': 0}, 'prompt_tokens_details': {'audio_tokens': None, 'cached_tokens': 0}}, 'model_name': 'gpt-4o-mini-2024-07-18', 'system_fingerprint': 'fp_0ba0d124f1', 'finish_reason': 'stop', 'logprobs': None}, id='run-f6fc1df3-b5ea-4887-8a58-42505770a7bf-0', usage_metadata={'input_tokens': 11, 'output_tokens': 10, 'total_tokens': 21, 'input_token_details': {'cache_read': 0}, 'output_token_details': {'reasoning': 0}})"
      ]
     },
     "execution_count": 2,
     "metadata": {},
     "output_type": "execute_result"
    }
   ],
   "source": [
    "from langchain_openai import ChatOpenAI\n",
    "from langchain_core.messages import HumanMessage, SystemMessage, AIMessage\n",
    "\n",
    "model = ChatOpenAI(model=\"gpt-4o-mini\")\n",
    "model.invoke([HumanMessage(content=\"Hi, i'm bob\")])"
   ]
  },
  {
   "cell_type": "code",
   "execution_count": null,
   "metadata": {},
   "outputs": [],
   "source": [
    "from langgraph.checkpoint.memory import MemorySaver\n",
    "from langgraph.checkpoint.postgres import PostgresSaver\n",
    "from langgraph.graph import START, MessagesState, StateGraph\n",
    "\n",
    "workflow = StateGraph(state_schema=MessagesState)\n",
    "\n",
    "def call_model(state: MessagesState) -> MessagesState:\n",
    "    response = model.invoke(state['messages'])\n",
    "    return {\"messages\": response}\n",
    "\n",
    "workflow.add_edge(START, \"model\")\n",
    "workflow.add_node(\"model\", call_model)\n",
    "\n",
    "memory = MemorySaver()\n",
    "app = workflow.compile(checkpointer=memory)"
   ]
  },
  {
   "cell_type": "code",
   "execution_count": 12,
   "metadata": {},
   "outputs": [],
   "source": [
    "config = {\n",
    "    \"configurable\": {\n",
    "        \"thread_id\": 1\n",
    "    }\n",
    "}"
   ]
  },
  {
   "cell_type": "code",
   "execution_count": 13,
   "metadata": {},
   "outputs": [
    {
     "name": "stdout",
     "output_type": "stream",
     "text": [
      "==================================\u001b[1m Ai Message \u001b[0m==================================\n",
      "\n",
      "Hi Bob! How can I assist you today?\n"
     ]
    }
   ],
   "source": [
    "query = \"Hi, i'm bob\"\n",
    "\n",
    "input_messages = [HumanMessage(query)]\n",
    "output = app.invoke({\"messages\": input_messages}, config)\n",
    "output[\"messages\"][-1].pretty_print()"
   ]
  },
  {
   "cell_type": "code",
   "execution_count": 14,
   "metadata": {},
   "outputs": [
    {
     "data": {
      "text/plain": [
       "[HumanMessage(content=\"Hi, i'm bob\", additional_kwargs={}, response_metadata={}, id='8ecb0a98-7fab-40a9-b978-d6b7261d3837'),\n",
       " AIMessage(content='Hi Bob! How can I assist you today?', additional_kwargs={'refusal': None}, response_metadata={'token_usage': {'completion_tokens': 10, 'prompt_tokens': 11, 'total_tokens': 21, 'completion_tokens_details': {'accepted_prediction_tokens': 0, 'audio_tokens': None, 'reasoning_tokens': 0, 'rejected_prediction_tokens': 0}, 'prompt_tokens_details': {'audio_tokens': None, 'cached_tokens': 0}}, 'model_name': 'gpt-4o-mini-2024-07-18', 'system_fingerprint': 'fp_0ba0d124f1', 'finish_reason': 'stop', 'logprobs': None}, id='run-25a34659-3c18-440a-83cd-ddc79fead7d2-0', usage_metadata={'input_tokens': 11, 'output_tokens': 10, 'total_tokens': 21, 'input_token_details': {'cache_read': 0}, 'output_token_details': {'reasoning': 0}})]"
      ]
     },
     "execution_count": 14,
     "metadata": {},
     "output_type": "execute_result"
    }
   ],
   "source": [
    "output[\"messages\"]"
   ]
  },
  {
   "cell_type": "code",
   "execution_count": 15,
   "metadata": {},
   "outputs": [
    {
     "name": "stdout",
     "output_type": "stream",
     "text": [
      "==================================\u001b[1m Ai Message \u001b[0m==================================\n",
      "\n",
      "You're Bob! If there's something more specific you'd like to explore about yourself or if you have any questions, feel free to share!\n"
     ]
    }
   ],
   "source": [
    "query = \"who am i?\"\n",
    "\n",
    "input_messages = [HumanMessage(query)]\n",
    "output = app.invoke({\"messages\": input_messages}, config)\n",
    "output[\"messages\"][-1].pretty_print()"
   ]
  },
  {
   "cell_type": "markdown",
   "metadata": {},
   "source": [
    "# Postgres"
   ]
  },
  {
   "cell_type": "code",
   "execution_count": 14,
   "metadata": {},
   "outputs": [
    {
     "name": "stdout",
     "output_type": "stream",
     "text": [
      "host=localhost port=5433 dbname=ai-buddy user=root password=root\n",
      "[SystemMessage(content='Meow', additional_kwargs={}, response_metadata={}), AIMessage(content='woof', additional_kwargs={}, response_metadata={}), HumanMessage(content='bark', additional_kwargs={}, response_metadata={}), SystemMessage(content='Meow', additional_kwargs={}, response_metadata={}), AIMessage(content='woof', additional_kwargs={}, response_metadata={}), HumanMessage(content='bark', additional_kwargs={}, response_metadata={}), SystemMessage(content='Meow', additional_kwargs={}, response_metadata={}), AIMessage(content='woof', additional_kwargs={}, response_metadata={}), HumanMessage(content='bark', additional_kwargs={}, response_metadata={})]\n"
     ]
    }
   ],
   "source": [
    "import uuid\n",
    "import os\n",
    "\n",
    "from langchain_core.messages import SystemMessage, AIMessage, HumanMessage\n",
    "from langchain_postgres import PostgresChatMessageHistory\n",
    "import psycopg\n",
    "import psycopg_pool\n",
    "\n",
    "\n",
    "# Establish a synchronous connection to the database\n",
    "# (or use psycopg.AsyncConnection for async)\n",
    "conn_info = f\"host={os.getenv('DATABASE_HOST')} port={os.getenv('DATABASE_PORT')} dbname={os.getenv('DATABASE_NAME')} user={os.getenv('DATABASE_USER')} password={os.getenv('DATABASE_PASSWORD')}\"\n",
    "\n",
    "print(conn_info)\n",
    "\n",
    "with psycopg_pool.ConnectionPool(conn_info) as pool:\n",
    "    with pool.connection() as conn:\n",
    "        # Create the table schema (only needs to be done once)\n",
    "        table_name = \"chat_history\"\n",
    "        PostgresChatMessageHistory.create_tables(conn, table_name)\n",
    "\n",
    "        # session_id = str(uuid.uuid4())\n",
    "        session_id = \"65a490d8-3b1b-4d1c-81ca-38b11d00ace7\"\n",
    "\n",
    "        # Initialize the chat history manager\n",
    "        chat_history = PostgresChatMessageHistory(\n",
    "            table_name,\n",
    "            session_id,\n",
    "            sync_connection=conn\n",
    "        )\n",
    "\n",
    "        # Add messages to the chat history\n",
    "        chat_history.add_messages([\n",
    "            SystemMessage(content=\"Meow\"),\n",
    "            AIMessage(content=\"woof\"),\n",
    "            HumanMessage(content=\"bark\"),\n",
    "        ])\n",
    "\n",
    "        print(chat_history.get_messages())"
   ]
  }
 ],
 "metadata": {
  "kernelspec": {
   "display_name": "base",
   "language": "python",
   "name": "python3"
  },
  "language_info": {
   "codemirror_mode": {
    "name": "ipython",
    "version": 3
   },
   "file_extension": ".py",
   "mimetype": "text/x-python",
   "name": "python",
   "nbconvert_exporter": "python",
   "pygments_lexer": "ipython3",
   "version": "3.11.5"
  }
 },
 "nbformat": 4,
 "nbformat_minor": 2
}
